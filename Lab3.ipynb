{
  "cells": [
    {
      "cell_type": "markdown",
      "metadata": {
        "id": "view-in-github",
        "colab_type": "text"
      },
      "source": [
        "<a href=\"https://colab.research.google.com/github/laurelpurcell/CS506-Fall2025/blob/main/Lab3.ipynb\" target=\"_parent\"><img src=\"https://colab.research.google.com/assets/colab-badge.svg\" alt=\"Open In Colab\"/></a>"
      ]
    },
    {
      "cell_type": "markdown",
      "metadata": {
        "id": "SsMfWqCMwZEp"
      },
      "source": [
        "another# Lab3: Clustering with K-means, K-means++ and Kmedioids\n",
        "\n",
        "## Overview\n",
        "In this lab, you will learn how to implement and analyze the **K-means**, **K-means++**  and **Kmedioids** clustering algorithms on two different real-world datasets:\n",
        "\n",
        "- **MNIST Digits** (10 handwritten digits (image)).  \n",
        "- **CIFAR-10 dataset** (different categories of imagenet style objects).  \n",
        "\n",
        "You will compare the performance of **K-means**,  **K-means++** and **Kmedioids**.\n",
        "\n",
        "Note that everywhere you need to use random_state = 42 where ever needed for Kmeans, Kmeans++ and Kmedioids for reproducibility, if you set this to anotehr value **you will not get full score**.\n"
      ]
    },
    {
      "cell_type": "code",
      "execution_count": null,
      "metadata": {
        "colab": {
          "base_uri": "https://localhost:8080/"
        },
        "id": "2IarRGz0wZEs",
        "outputId": "9cf4cb12-f805-41ac-862e-e65d5898c686"
      },
      "outputs": [
        {
          "output_type": "stream",
          "name": "stdout",
          "text": [
            "Requirement already satisfied: datasets in /usr/local/lib/python3.12/dist-packages (4.0.0)\n",
            "Requirement already satisfied: scikit-learn in /usr/local/lib/python3.12/dist-packages (1.6.1)\n",
            "Requirement already satisfied: matplotlib in /usr/local/lib/python3.12/dist-packages (3.10.0)\n",
            "Requirement already satisfied: numpy in /usr/local/lib/python3.12/dist-packages (2.0.2)\n",
            "Requirement already satisfied: seaborn in /usr/local/lib/python3.12/dist-packages (0.13.2)\n",
            "Requirement already satisfied: pandas in /usr/local/lib/python3.12/dist-packages (2.2.2)\n",
            "Requirement already satisfied: filelock in /usr/local/lib/python3.12/dist-packages (from datasets) (3.19.1)\n",
            "Requirement already satisfied: pyarrow>=15.0.0 in /usr/local/lib/python3.12/dist-packages (from datasets) (18.1.0)\n",
            "Requirement already satisfied: dill<0.3.9,>=0.3.0 in /usr/local/lib/python3.12/dist-packages (from datasets) (0.3.8)\n",
            "Requirement already satisfied: requests>=2.32.2 in /usr/local/lib/python3.12/dist-packages (from datasets) (2.32.4)\n",
            "Requirement already satisfied: tqdm>=4.66.3 in /usr/local/lib/python3.12/dist-packages (from datasets) (4.67.1)\n",
            "Requirement already satisfied: xxhash in /usr/local/lib/python3.12/dist-packages (from datasets) (3.5.0)\n",
            "Requirement already satisfied: multiprocess<0.70.17 in /usr/local/lib/python3.12/dist-packages (from datasets) (0.70.16)\n",
            "Requirement already satisfied: fsspec<=2025.3.0,>=2023.1.0 in /usr/local/lib/python3.12/dist-packages (from fsspec[http]<=2025.3.0,>=2023.1.0->datasets) (2025.3.0)\n",
            "Requirement already satisfied: huggingface-hub>=0.24.0 in /usr/local/lib/python3.12/dist-packages (from datasets) (0.35.0)\n",
            "Requirement already satisfied: packaging in /usr/local/lib/python3.12/dist-packages (from datasets) (25.0)\n",
            "Requirement already satisfied: pyyaml>=5.1 in /usr/local/lib/python3.12/dist-packages (from datasets) (6.0.2)\n",
            "Requirement already satisfied: scipy>=1.6.0 in /usr/local/lib/python3.12/dist-packages (from scikit-learn) (1.16.2)\n",
            "Requirement already satisfied: joblib>=1.2.0 in /usr/local/lib/python3.12/dist-packages (from scikit-learn) (1.5.2)\n",
            "Requirement already satisfied: threadpoolctl>=3.1.0 in /usr/local/lib/python3.12/dist-packages (from scikit-learn) (3.6.0)\n",
            "Requirement already satisfied: contourpy>=1.0.1 in /usr/local/lib/python3.12/dist-packages (from matplotlib) (1.3.3)\n",
            "Requirement already satisfied: cycler>=0.10 in /usr/local/lib/python3.12/dist-packages (from matplotlib) (0.12.1)\n",
            "Requirement already satisfied: fonttools>=4.22.0 in /usr/local/lib/python3.12/dist-packages (from matplotlib) (4.60.0)\n",
            "Requirement already satisfied: kiwisolver>=1.3.1 in /usr/local/lib/python3.12/dist-packages (from matplotlib) (1.4.9)\n",
            "Requirement already satisfied: pillow>=8 in /usr/local/lib/python3.12/dist-packages (from matplotlib) (11.3.0)\n",
            "Requirement already satisfied: pyparsing>=2.3.1 in /usr/local/lib/python3.12/dist-packages (from matplotlib) (3.2.4)\n",
            "Requirement already satisfied: python-dateutil>=2.7 in /usr/local/lib/python3.12/dist-packages (from matplotlib) (2.9.0.post0)\n",
            "Requirement already satisfied: pytz>=2020.1 in /usr/local/lib/python3.12/dist-packages (from pandas) (2025.2)\n",
            "Requirement already satisfied: tzdata>=2022.7 in /usr/local/lib/python3.12/dist-packages (from pandas) (2025.2)\n",
            "Requirement already satisfied: aiohttp!=4.0.0a0,!=4.0.0a1 in /usr/local/lib/python3.12/dist-packages (from fsspec[http]<=2025.3.0,>=2023.1.0->datasets) (3.12.15)\n",
            "Requirement already satisfied: typing-extensions>=3.7.4.3 in /usr/local/lib/python3.12/dist-packages (from huggingface-hub>=0.24.0->datasets) (4.15.0)\n",
            "Requirement already satisfied: hf-xet<2.0.0,>=1.1.3 in /usr/local/lib/python3.12/dist-packages (from huggingface-hub>=0.24.0->datasets) (1.1.10)\n",
            "Requirement already satisfied: six>=1.5 in /usr/local/lib/python3.12/dist-packages (from python-dateutil>=2.7->matplotlib) (1.17.0)\n",
            "Requirement already satisfied: charset_normalizer<4,>=2 in /usr/local/lib/python3.12/dist-packages (from requests>=2.32.2->datasets) (3.4.3)\n",
            "Requirement already satisfied: idna<4,>=2.5 in /usr/local/lib/python3.12/dist-packages (from requests>=2.32.2->datasets) (3.10)\n",
            "Requirement already satisfied: urllib3<3,>=1.21.1 in /usr/local/lib/python3.12/dist-packages (from requests>=2.32.2->datasets) (2.5.0)\n",
            "Requirement already satisfied: certifi>=2017.4.17 in /usr/local/lib/python3.12/dist-packages (from requests>=2.32.2->datasets) (2025.8.3)\n",
            "Requirement already satisfied: aiohappyeyeballs>=2.5.0 in /usr/local/lib/python3.12/dist-packages (from aiohttp!=4.0.0a0,!=4.0.0a1->fsspec[http]<=2025.3.0,>=2023.1.0->datasets) (2.6.1)\n",
            "Requirement already satisfied: aiosignal>=1.4.0 in /usr/local/lib/python3.12/dist-packages (from aiohttp!=4.0.0a0,!=4.0.0a1->fsspec[http]<=2025.3.0,>=2023.1.0->datasets) (1.4.0)\n",
            "Requirement already satisfied: attrs>=17.3.0 in /usr/local/lib/python3.12/dist-packages (from aiohttp!=4.0.0a0,!=4.0.0a1->fsspec[http]<=2025.3.0,>=2023.1.0->datasets) (25.3.0)\n",
            "Requirement already satisfied: frozenlist>=1.1.1 in /usr/local/lib/python3.12/dist-packages (from aiohttp!=4.0.0a0,!=4.0.0a1->fsspec[http]<=2025.3.0,>=2023.1.0->datasets) (1.7.0)\n",
            "Requirement already satisfied: multidict<7.0,>=4.5 in /usr/local/lib/python3.12/dist-packages (from aiohttp!=4.0.0a0,!=4.0.0a1->fsspec[http]<=2025.3.0,>=2023.1.0->datasets) (6.6.4)\n",
            "Requirement already satisfied: propcache>=0.2.0 in /usr/local/lib/python3.12/dist-packages (from aiohttp!=4.0.0a0,!=4.0.0a1->fsspec[http]<=2025.3.0,>=2023.1.0->datasets) (0.3.2)\n",
            "Requirement already satisfied: yarl<2.0,>=1.17.0 in /usr/local/lib/python3.12/dist-packages (from aiohttp!=4.0.0a0,!=4.0.0a1->fsspec[http]<=2025.3.0,>=2023.1.0->datasets) (1.20.1)\n",
            "Collecting kmedoids\n",
            "  Downloading kmedoids-0.5.3.1-cp312-cp312-manylinux_2_28_x86_64.whl.metadata (9.6 kB)\n",
            "Downloading kmedoids-0.5.3.1-cp312-cp312-manylinux_2_28_x86_64.whl (527 kB)\n",
            "\u001b[2K   \u001b[90m━━━━━━━━━━━━━━━━━━━━━━━━━━━━━━━━━━━━━━━━\u001b[0m \u001b[32m527.7/527.7 kB\u001b[0m \u001b[31m10.8 MB/s\u001b[0m eta \u001b[36m0:00:00\u001b[0m\n",
            "\u001b[?25hInstalling collected packages: kmedoids\n",
            "Successfully installed kmedoids-0.5.3.1\n"
          ]
        }
      ],
      "source": [
        "# Install dependencies if needed\n",
        "!pip install datasets scikit-learn matplotlib numpy seaborn pandas\n",
        "!pip install kmedoids\n",
        "\n",
        "from datasets import load_dataset\n",
        "from sklearn.decomposition import PCA\n",
        "from sklearn.cluster import KMeans\n",
        "import numpy as np\n",
        "import matplotlib.pyplot as plt\n",
        "from sklearn.metrics import silhouette_score\n",
        "from sklearn.metrics import pairwise_distances\n",
        "import kmedoids\n",
        "import seaborn as sns\n",
        "import pandas as pd\n",
        "\n",
        "from sklearn.metrics import (\n",
        "    adjusted_rand_score,\n",
        "    normalized_mutual_info_score,\n",
        "    confusion_matrix\n",
        ")\n",
        "from collections import Counter\n",
        "from sklearn.manifold import TSNE\n",
        "\n"
      ]
    },
    {
      "cell_type": "markdown",
      "metadata": {
        "id": "vwTBP8bLwZEs"
      },
      "source": [
        "## Dataset MNIST (HandWritten Digits)"
      ]
    },
    {
      "cell_type": "code",
      "execution_count": null,
      "metadata": {
        "colab": {
          "base_uri": "https://localhost:8080/",
          "height": 407
        },
        "id": "kI4bkH9MwZEs",
        "outputId": "fa87f037-5249-42fd-ad9f-f2dcc1b8057f"
      },
      "outputs": [
        {
          "output_type": "display_data",
          "data": {
            "text/plain": [
              "<Figure size 400x400 with 9 Axes>"
            ],
            "image/png": "[encoded data removed]"
          },
          "metadata": {}
        }
      ],
      "source": [
        "# 1. Load MNIST dataset\n",
        "\n",
        "dataset = load_dataset(\"mnist\", split=\"train[:5000]\")\n",
        "dataset = dataset.shuffle(seed=42)\n",
        "\n",
        "fig, axes = plt.subplots(3, 3, figsize=(4, 4))\n",
        "\n",
        "for i, ax in enumerate(axes.flat):\n",
        "    img = dataset[i][\"image\"]\n",
        "    label = dataset.features[\"label\"].int2str(dataset[i][\"label\"])\n",
        "    ax.imshow(img)\n",
        "    ax.set_title(label, fontsize=10)\n",
        "    ax.axis(\"off\")\n",
        "\n",
        "plt.tight_layout()\n",
        "plt.show()"
      ]
    },
    {
      "cell_type": "code",
      "execution_count": null,
      "metadata": {
        "colab": {
          "base_uri": "https://localhost:8080/"
        },
        "id": "U74f9M9GwZEt",
        "outputId": "202599f2-89f7-4380-dffe-ec0b0d2cbdac"
      },
      "outputs": [
        {
          "output_type": "stream",
          "name": "stdout",
          "text": [
            "Data shape: (5000, 4096)\n",
            "Labels shape: (5000,)\n",
            "\n",
            "Number of unique clusters (classes): 10\n",
            "Allclasses:\n",
            "0 -> 0 (479 samples)\n",
            "1 -> 1 (563 samples)\n",
            "2 -> 2 (488 samples)\n",
            "3 -> 3 (493 samples)\n",
            "4 -> 4 (535 samples)\n",
            "5 -> 5 (434 samples)\n",
            "6 -> 6 (501 samples)\n",
            "7 -> 7 (550 samples)\n",
            "8 -> 8 (462 samples)\n",
            "9 -> 9 (495 samples)\n"
          ]
        }
      ],
      "source": [
        "# 2. Preprocess: resize + flatten images\n",
        "\n",
        "X = np.array([np.array(img.resize((64, 64))).flatten()\n",
        "              for img in dataset[\"image\"]], dtype=np.float32)\n",
        "X = X / 255.0  # normalize to [0, 1]\n",
        "\n",
        "print(\"Data shape:\", X.shape)  # (N, 64*64*3)\n",
        "\n",
        "\n",
        "# Reduce to 50 dimensions (you can tune this number)\n",
        "pca = PCA(n_components=786, random_state=42)\n",
        "X = pca.fit_transform(X)\n",
        "\n",
        "\n",
        "# 3. Extract labels\n",
        "\n",
        "y = np.array(dataset[\"label\"])\n",
        "label_names = dataset.features[\"label\"].names\n",
        "\n",
        "print(\"Labels shape:\", y.shape)\n",
        "\n",
        "# 4. Count unique clusters\n",
        "\n",
        "unique_labels, counts = np.unique(y, return_counts=True)\n",
        "n_classes = len(unique_labels)\n",
        "\n",
        "print(\"\\nNumber of unique clusters (classes):\", n_classes)\n",
        "print(\"Allclasses:\")\n",
        "for i in range(n_classes):\n",
        "    print(f\"{unique_labels[i]} -> {label_names[unique_labels[i]]} ({counts[i]} samples)\")\n"
      ]
    },
    {
      "cell_type": "code",
      "execution_count": null,
      "metadata": {
        "id": "TsqgRKVBwZEt"
      },
      "outputs": [],
      "source": [
        "#This is a helper function that will help you visualize the top 5 datapoints in each cluster\n",
        "def show_closest_images(X, dataset, centroids, labels, title, num_images=5):\n",
        "    n_clusters = len(centroids)\n",
        "    fig, axes = plt.subplots(n_clusters, num_images, figsize=(1.2*num_images, 1.2*n_clusters))\n",
        "\n",
        "\n",
        "    # If only 1 cluster, fix axes shape\n",
        "    if n_clusters == 1:\n",
        "        axes = np.expand_dims(axes, axis=0)\n",
        "\n",
        "    for i, centroid in enumerate(centroids):\n",
        "        distances = np.linalg.norm(X - centroid, axis=1)\n",
        "        cluster_indices = np.where(labels == i)[0]\n",
        "\n",
        "        if len(cluster_indices) == 0:\n",
        "            continue\n",
        "\n",
        "        closest_indices = cluster_indices[np.argsort(distances[cluster_indices])[:num_images]]\n",
        "\n",
        "        for j, idx in enumerate(closest_indices):\n",
        "            try:\n",
        "                img = dataset[int(idx)][\"image\"]\n",
        "            except:\n",
        "                img = dataset[int(idx)][\"img\"]\n",
        "            label_name = dataset.features[\"label\"].int2str(dataset[int(idx)][\"label\"])\n",
        "\n",
        "            axes[i, j].imshow(img)\n",
        "            axes[i, j].axis(\"off\")\n",
        "\n",
        "            axes[i, j].text(0.5, -0.15, label_name,\n",
        "                            size=7, ha=\"center\", va=\"top\", transform=axes[i, j].transAxes)\n",
        "\n",
        "            if j == 0:\n",
        "                axes[i, j].set_title(f\"Cluster {i}\", fontsize=9)\n",
        "\n",
        "    plt.suptitle(title, fontsize=14)\n",
        "    plt.tight_layout()\n",
        "    plt.show()\n"
      ]
    },
    {
      "cell_type": "markdown",
      "metadata": {
        "id": "azP71XD0wZEt"
      },
      "source": [
        "# [TODO] Implement KMeans for MNIST (2 points)"
      ]
    },
    {
      "cell_type": "markdown",
      "metadata": {
        "id": "mHQV0khdwZEt"
      },
      "source": [
        "## Instructions\n",
        "\n",
        "In this section, you will implement **K-means** using the **sklearn** library.\n",
        "\n",
        "- Use the `KMeans` class from `sklearn.cluster`.\n",
        "- Set the following parameters:\n",
        "  - `n_clusters = k` (choose based on the dataset what do you think thge right number is for this dataset?).  \n",
        "  - `init = \"?\"` what should this be for Kmeans?.  \n",
        "  - `n_init = 10` (please set the number of random initializations to 10).  \n",
        "  - `max_iter = 50` (maximum number of iterations before convergence need to be set to 50).  \n",
        "  - `random_state = 42` (for reproducibility).  \n",
        "\n",
        "Note that everywhere you need to use random_state = 42 where ever needed for Kmeans, Kmeans++ and Kmedioids for reproducibility, if you set this to another value **you will not get full score**."
      ]
    },
    {
      "cell_type": "code",
      "execution_count": null,
      "metadata": {
        "id": "Tl8QJo1ewZEt"
      },
      "outputs": [],
      "source": [
        "# ----------------------------\n",
        "# TODO Implement KMeans\n",
        "# ----------------------------\n",
        "\n",
        "kmeans = KMeans(\n",
        "    n_clusters = 10,\n",
        "    init = \"random\",\n",
        "    n_init = 10,\n",
        "    max_iter = 50,\n",
        "    random_state = 42\n",
        ")\n",
        "\n",
        "# Fit the model to the data and get cluster labels and centroids\n",
        "labels_km = kmeans.fit_predict(X)\n",
        "centroids_km = kmeans.cluster_centers_\n",
        "\n",
        "# ----------------------------\n",
        "# Implemenetation ends here\n",
        "# ----------------------------\n",
        "\n",
        "# Reduce to 2D for visualization\n",
        "X_2d = TSNE(n_components=2, perplexity=30, random_state=42).fit_transform(X)\n",
        "\n",
        "\n",
        "tick_labels = []\n",
        "k = n_classes # Define k as the number of classes\n",
        "for cluster_id in range(k):\n",
        "    idxs = np.where(labels_km == cluster_id)[0]\n",
        "    true_labels = y[idxs]\n",
        "    if len(true_labels) > 0:\n",
        "        counts = Counter(true_labels).most_common(2)\n",
        "        if len(counts) == 1:\n",
        "            label_str = f\"{counts[0][0]} ({counts[0][1]})\"\n",
        "        else:\n",
        "            label_str = f\"{counts[0][0]} ({counts[0][1]}), {counts[1][0]} ({counts[1][1]})\"\n",
        "        tick_labels.append(label_str)\n",
        "    else:\n",
        "        tick_labels.append(\"Empty\")\n",
        "\n",
        "\n",
        "fig, axes = plt.subplots(1, 2, figsize=(16, 7))\n",
        "\n",
        "# Left: KMeans clusters\n",
        "sc1 = axes[0].scatter(X_2d[:, 0], X_2d[:, 1], c=labels_km, cmap=\"tab10\", s=10)\n",
        "cbar1 = plt.colorbar(sc1, ax=axes[0], ticks=range(k))\n",
        "cbar1.ax.set_yticklabels(tick_labels)\n",
        "axes[0].set_title(\"KMeans (2D projection), Top 2 common number in each cluster\")\n",
        "axes[0].set_xlabel(\"t-SNE 1\")\n",
        "axes[0].set_ylabel(\"t-SNE 2\")\n",
        "\n",
        "# Right: True labels\n",
        "sc2 = axes[1].scatter(X_2d[:, 0], X_2d[:, 1], c=y, cmap=\"tab10\", s=10)\n",
        "cbar2 = plt.colorbar(sc2, ax=axes[1])\n",
        "cbar2.set_label(\"Digit Label\")\n",
        "axes[1].set_title(\"True Labels (2D projection)\")\n",
        "axes[1].set_xlabel(\"t-SNE 1\")\n",
        "axes[1].set_ylabel(\"t-SNE 2\")\n",
        "\n",
        "plt.tight_layout()\n",
        "plt.show()"
      ]
    },
    {
      "cell_type": "markdown",
      "metadata": {
        "id": "zXkTVcuFwZEt"
      },
      "source": [
        "# [TODO]: Find Confused Digit Pairs in Kmeans (1 point)\n",
        "\n",
        "- For each cluster, check the **second most common true label**.  \n",
        "- If its count is **greater than 50**, record the pairs (most common, second most common) and write your answer here.\n",
        "\n",
        "Answer: (3, 5), (8, 3), (7, 9), (7, 9), (4, 9), (1, 5)\n"
      ]
    },
    {
      "cell_type": "code",
      "execution_count": null,
      "metadata": {
        "id": "qAx8bbZjwZEt"
      },
      "outputs": [],
      "source": [
        "show_closest_images(X, dataset, centroids_km, labels_km, \"K-means\")"
      ]
    },
    {
      "cell_type": "markdown",
      "metadata": {
        "id": "R1_OIfiJwZEt"
      },
      "source": [
        "# [TODO] Implement KMeans++ for MNIST (2 points)"
      ]
    },
    {
      "cell_type": "markdown",
      "metadata": {
        "id": "i4uywdcZwZEt"
      },
      "source": [
        "## Instructions\n",
        "\n",
        "In this section, you will implement **K-means ++** using the **sklearn** library.\n",
        "\n",
        "- Use the `KMeans` class from `sklearn.cluster`.\n",
        "- Set the following parameters:\n",
        "  - `n_clusters = k` (choose based on the dataset what do you think thge right number is for this dataset?).  \n",
        "  - `init = \"?\"` what should this be for Kmeans ++ ?.  \n",
        "  - `n_init = 10` (please set the number of random initializations to 10).  \n",
        "  - `max_iter = 50` (maximum number of iterations before convergence need to be set to 50).  \n",
        "  - `random_state = 42` (for reproducibility).  \n",
        "\n",
        "Note that everywhere you need to use random_state = 42 where ever needed for Kmeans, Kmeans++ and Kmedioids for reproducibility, if you set this to anotehr value **you will not get full score**."
      ]
    },
    {
      "cell_type": "code",
      "execution_count": null,
      "metadata": {
        "id": "sqk4mZqkwZEt"
      },
      "outputs": [],
      "source": [
        "# ----------------------------\n",
        "# TODO Implement Kmeans ++\n",
        "# ----------------------------\n",
        "\n",
        "kmeans_pp = KMeans(\n",
        "    n_clusters = 10,\n",
        "    init = \"k-means++\",\n",
        "    n_init = 10,\n",
        "    max_iter = 50,\n",
        "    random_state = 42\n",
        ")\n",
        "\n",
        "# Fit the model to the data and get cluster labels and centroids\n",
        "labels_pp = kmeans_pp.fit_predict(X)\n",
        "centroids_pp = kmeans_pp.cluster_centers_\n",
        "\n",
        "# ----------------------------\n",
        "# Implemenetation ends here\n",
        "# ----------------------------\n",
        "\n",
        "# Reduce to 2D for visualization\n",
        "X_2d = TSNE(n_components=2, perplexity=30, random_state=42).fit_transform(X)\n",
        "\n",
        "\n",
        "tick_labels = []\n",
        "for cluster_id in range(k):\n",
        "    idxs = np.where(labels_pp == cluster_id)[0]\n",
        "    true_labels = y[idxs]\n",
        "    if len(true_labels) > 0:\n",
        "        counts = Counter(true_labels).most_common(2)\n",
        "        if len(counts) == 1:\n",
        "            label_str = f\"{counts[0][0]} ({counts[0][1]})\"\n",
        "        else:\n",
        "            label_str = f\"{counts[0][0]} ({counts[0][1]}), {counts[1][0]} ({counts[1][1]})\"\n",
        "        tick_labels.append(label_str)\n",
        "    else:\n",
        "        tick_labels.append(\"Empty\")\n",
        "\n",
        "\n",
        "fig, axes = plt.subplots(1, 2, figsize=(16, 7))\n",
        "\n",
        "# Left: KMeans clusters\n",
        "sc1 = axes[0].scatter(X_2d[:, 0], X_2d[:, 1], c=labels_pp, cmap=\"tab10\", s=10)\n",
        "cbar1 = plt.colorbar(sc1, ax=axes[0], ticks=range(k))\n",
        "cbar1.ax.set_yticklabels(tick_labels)\n",
        "axes[0].set_title(\"KMeans++ (2D projection), Top 2 common number in each cluster\")\n",
        "axes[0].set_xlabel(\"t-SNE 1\")\n",
        "axes[0].set_ylabel(\"t-SNE 2\")\n",
        "\n",
        "# Right: True labels\n",
        "sc2 = axes[1].scatter(X_2d[:, 0], X_2d[:, 1], c=y, cmap=\"tab10\", s=10)\n",
        "cbar2 = plt.colorbar(sc2, ax=axes[1])\n",
        "cbar2.set_label(\"Digit Label\")\n",
        "axes[1].set_title(\"True Labels (2D projection)\")\n",
        "axes[1].set_xlabel(\"t-SNE 1\")\n",
        "axes[1].set_ylabel(\"t-SNE 2\")\n",
        "\n",
        "plt.tight_layout()\n",
        "plt.show()\n",
        "\n"
      ]
    },
    {
      "cell_type": "markdown",
      "metadata": {
        "id": "WixmzVXCwZEt"
      },
      "source": [
        "# [TODO]: Find Confused Digit Pairs  in Kmeans++ (1 point)\n",
        "\n",
        "- For each cluster, check the **second most common true label**.  \n",
        "- If its count is **greater than 50**, record the pair (most common, second most common) and write your answer here.\n",
        "\n",
        "Answer: (4, 9), (7, 9), (8, 3), (3, 5), (7, 9)"
      ]
    },
    {
      "cell_type": "code",
      "execution_count": null,
      "metadata": {
        "id": "XsVdDvf1wZEz"
      },
      "outputs": [],
      "source": [
        "show_closest_images(X, dataset, centroids_pp, labels_pp, \"K-means++\")"
      ]
    },
    {
      "cell_type": "markdown",
      "metadata": {
        "id": "RzJHHaG_wZEz"
      },
      "source": [
        "# [TODO] Implement Kmedioids (2 points)"
      ]
    },
    {
      "cell_type": "markdown",
      "metadata": {
        "id": "9_wCSZjLwZE1"
      },
      "source": [
        "## Instructions\n",
        "KMedoids (with `kmedoids` package)\n",
        "\n",
        "- Use the `KMedoids` class from the **`kmedoids`** package, which you must have pip installed at the start of the notebook.  \n",
        "- Set the following parameters:\n",
        "  - `n_clusters = k` → number of clusters (choose based on dataset).  \n",
        "  - `method = \"fasterpam\"` → efficient implementation of the PAM algorithm.  \n",
        "  - `metric = \"precomputed\"` → pass a precomputed distance matrix.  \n",
        "  - `random_state = 42` → ensures reproducibility.  \n",
        "Note that everywhere you need to use random_state = 42 where ever needed for Kmeans, Kmeans++ and Kmedioids for reproducibility, if you set this to anotehr value **you will not get full score**.\n",
        "\n",
        "Extra Note:  Before running KMedoids, you need to compute a **distance matrix** using e.g.  \n",
        "  ```python\n",
        "dist_matrix = pairwise_distances(X, metric=\"manhattan\")\n",
        "\n"
      ]
    },
    {
      "cell_type": "code",
      "execution_count": null,
      "metadata": {
        "id": "mgnRKEzdwZE4"
      },
      "outputs": [],
      "source": [
        "# -------------------------\n",
        "# TODO Implement KMedoids\n",
        "# ------------------------\n",
        "\n",
        "dist_matrix = pairwise_distances(X, metric=\"manhattan\")\n",
        "kmed = kmedoids.KMedoids(\n",
        "    n_clusters = 10,\n",
        "    method = \"fasterpam\",\n",
        "    metric = \"precomputed\",\n",
        "    random_state = 42\n",
        ")\n",
        "\n",
        "# Fit the model to the data and get cluster labels and centroids\n",
        "labels_kmed = kmed.fit_predict(dist_matrix)\n",
        "centroids_kmed = kmed.cluster_centers_\n",
        "\n",
        "# ----------------------------\n",
        "# Implementation ends here\n",
        "# ----------------------------\n",
        "\n",
        "# Reduce to 2D for visualization\n",
        "X_2d = TSNE(n_components=2, perplexity=30, random_state=42).fit_transform(X)\n",
        "\n",
        "\n",
        "tick_labels = []\n",
        "for cluster_id in range(k):\n",
        "    idxs = np.where(labels_kmed == cluster_id)[0]\n",
        "    true_labels = y[idxs]\n",
        "    if len(true_labels) > 0:\n",
        "        counts = Counter(true_labels).most_common(2)\n",
        "        if len(counts) == 1:\n",
        "            label_str = f\"{counts[0][0]} ({counts[0][1]})\"\n",
        "        else:\n",
        "            label_str = f\"{counts[0][0]} ({counts[0][1]}), {counts[1][0]} ({counts[1][1]})\"\n",
        "        tick_labels.append(label_str)\n",
        "    else:\n",
        "        tick_labels.append(\"Empty\")\n",
        "\n",
        "\n",
        "fig, axes = plt.subplots(1, 2, figsize=(16, 7))\n",
        "\n",
        "# Left: KMeans clusters\n",
        "sc1 = axes[0].scatter(X_2d[:, 0], X_2d[:, 1], c=labels_kmed, cmap=\"tab10\", s=10)\n",
        "cbar1 = plt.colorbar(sc1, ax=axes[0], ticks=range(k))\n",
        "cbar1.ax.set_yticklabels(tick_labels)\n",
        "axes[0].set_title(\"KMeans++ (2D projection), Top 2 common number in each cluster\")\n",
        "axes[0].set_xlabel(\"t-SNE 1\")\n",
        "axes[0].set_ylabel(\"t-SNE 2\")\n",
        "\n",
        "# Right: True labels\n",
        "sc2 = axes[1].scatter(X_2d[:, 0], X_2d[:, 1], c=y, cmap=\"tab10\", s=10)\n",
        "cbar2 = plt.colorbar(sc2, ax=axes[1])\n",
        "cbar2.set_label(\"Digit Label\")\n",
        "axes[1].set_title(\"True Labels (2D projection)\")\n",
        "axes[1].set_xlabel(\"t-SNE 1\")\n",
        "axes[1].set_ylabel(\"t-SNE 2\")\n",
        "\n",
        "plt.tight_layout()\n",
        "plt.show()"
      ]
    },
    {
      "cell_type": "markdown",
      "metadata": {
        "id": "j0d9odNnwZE7"
      },
      "source": [
        "# [TODO] Find Confused Digit Pairs  in Kmedioids (1 point)\n",
        "\n",
        "- For each cluster, check the **second most common true label**.  \n",
        "- If its count is **greater than 50**, record the pair (most common, second most common) and write your answer here.\n",
        "\n",
        "Answer: (1, 3), (7, 9), (5, 3), (2, 1), (9, 4), (0, 3), (0, 1), (9, 8)"
      ]
    },
    {
      "cell_type": "markdown",
      "metadata": {
        "id": "ovxk421WwZE8"
      },
      "source": [
        "# [TODO] Compute Silhouette scores for MNIST (2 points)"
      ]
    },
    {
      "cell_type": "code",
      "execution_count": null,
      "metadata": {
        "id": "wvzM2CTwwZE8"
      },
      "outputs": [],
      "source": [
        "\n",
        "# -------------------------------------------------------------------------------------\n",
        "# TODO Implement Metrics: Compute Silhouette scores for Kmeans, Kmeans++ and Kmedioids\n",
        "# --------------------------------------------------------------------------------------\n",
        "\n",
        "sil_score_km = silhouette_score(X, labels_km)\n",
        "sil_score_km_pp = silhouette_score(X, labels_pp)\n",
        "sil_score_kmed = silhouette_score(X, labels_kmed)\n",
        "\n",
        "# ----------------------------\n",
        "# Implemenetation ends here\n",
        "# ----------------------------\n",
        "\n",
        "results = pd.DataFrame({\n",
        "    \"Algorithm\": [\"KMeans\", \"KMeans++\", \"KMedoids\"],\n",
        "    \"Silhouette Score\": [sil_score_km, sil_score_km_pp, sil_score_kmed]\n",
        "})\n",
        "results\n",
        "\n"
      ]
    },
    {
      "cell_type": "markdown",
      "metadata": {
        "id": "KzUfto4swZE8"
      },
      "source": [
        "# [TODO] Using the Silhouette scores answer which method is doing better? (1 point)\n",
        "\n",
        "\n",
        "Answer: The KMeans algorithm has a silhouette score of 0.071, which is the highest of the three. Therefore, the KMeans algorithm is doing better, followed by KMeans++."
      ]
    },
    {
      "cell_type": "markdown",
      "metadata": {
        "id": "POY2HxbywZE8"
      },
      "source": [
        "# Clustering a pixels in a Single Image"
      ]
    },
    {
      "cell_type": "markdown",
      "metadata": {
        "id": "NFmwcRnSwZE8"
      },
      "source": [
        "## [TODO] Image Clustering with KMeans and KMeans++ (2 points)\n",
        "\n",
        "In this exercise, you will explore how clustering can be applied to images.  \n",
        "Instead of clustering entire datasets, we cluster the **pixels** of an image based on their RGB values.  \n",
        "\n",
        "Instructions for Kmeans:\n",
        "\n",
        "- Use the `KMeans` class from `sklearn.cluster`.\n",
        "- Set the following parameters:\n",
        "  - `n_clusters = k` (set this to 5).  \n",
        "  - `init = \"?\"` what should this be for Kmeans?.  \n",
        "  - `n_init = 10` (please set the number of random initializations to 10).  \n",
        "  - `max_iter = 50` (maximum number of iterations before convergence need to be set to 50).  \n",
        "  - `random_state = 42` (for reproducibility).  \n",
        "\n",
        "Instructions for Kmeans ++\n",
        "\n",
        "- Use the `KMeans` class from `sklearn.cluster`.\n",
        "- Set the following parameters:\n",
        "  - `n_clusters = k` (choose based on the dataset what do you think thge right number is for this dataset?).  \n",
        "  - `init = \"?\"` what should this be for Kmeans ++ ?.  \n",
        "  - `n_init = 10` (please set the number of random initializations to 10).  \n",
        "  - `max_iter = 50` (maximum number of iterations before convergence need to be set to 50).  \n",
        "  - `random_state = 42` (for reproducibility).\n",
        "\n",
        "Note that everywhere you need to use random_state = 42 where ever needed for Kmeans, Kmeans++ and Kmedioids for reproducibility, if you set this to another value **you will not get full score**."
      ]
    },
    {
      "cell_type": "code",
      "execution_count": null,
      "metadata": {
        "id": "LEcglXwlwZE8"
      },
      "outputs": [],
      "source": [
        "import numpy as np\n",
        "import matplotlib.pyplot as plt\n",
        "from sklearn.cluster import KMeans\n",
        "from sklearn.metrics import pairwise_distances\n",
        "from skimage.io import imread\n",
        "from skimage.transform import rescale\n",
        "import kmedoids\n",
        "\n",
        "\n",
        "image = imread(\"image0.png\")\n",
        "image = rescale(image, 0.5, channel_axis=-1)\n",
        "\n",
        "image_shape = image.shape\n",
        "pixels = image.reshape(-1, image_shape[-1])\n",
        "\n",
        "# ------------------------------------------------------------\n",
        "# TODO Implement KMeans\n",
        "# ------------------------------------------------------------\n",
        "\n",
        "kmeans = KMeans(\n",
        "    n_clusters = 5,\n",
        "    init = \"random\",\n",
        "    n_init = 10,\n",
        "    max_iter = 50,\n",
        "    random_state = 42\n",
        ")\n",
        "\n",
        "labels_km = kmeans.fit_predict(pixels)\n",
        "centroids_km = kmeans.cluster_centers_\n",
        "\n",
        "quantized_rand = kmeans.cluster_centers_[kmeans.labels_]\n",
        "quantized_rand = quantized_rand.reshape(image_shape)\n",
        "\n",
        "# ------------------------------------------------------------\n",
        "# TODO KMeans++\n",
        "# ------------------------------------------------------------\n",
        "\n",
        "kmeans_pp = KMeans(\n",
        "    n_clusters = 5,\n",
        "    init = \"k-means++\",\n",
        "    n_init = 10,\n",
        "    max_iter = 50,\n",
        "    random_state = 42,\n",
        "\n",
        ")\n",
        "\n",
        "labels_pp = kmeans_pp.fit_predict(pixels)\n",
        "quantized_pp = kmeans_pp.cluster_centers_[kmeans_pp.labels_]\n",
        "\n",
        "# ------------------------------------------------------------\n",
        "# Implementation Ends here\n",
        "# ------------------------------------------------------------\n",
        "fig, axes = plt.subplots(1, 3, figsize=(18, 6))\n",
        "\n",
        "axes[0].imshow(image)\n",
        "axes[0].set_title(\"Original\")\n",
        "axes[0].axis(\"off\")\n",
        "\n",
        "axes[1].imshow(quantized_rand)\n",
        "axes[1].set_title(\"KMeans\")\n",
        "axes[1].axis(\"off\")\n",
        "\n",
        "axes[2].imshow(quantized_pp)\n",
        "axes[2].set_title(\"KMeans++\")\n",
        "axes[2].axis(\"off\")\n",
        "\n",
        "\n",
        "plt.tight_layout()\n",
        "plt.show()"
      ]
    },
    {
      "cell_type": "markdown",
      "metadata": {
        "id": "0tcRYmn7wZE8"
      },
      "source": [
        "\n",
        "\n",
        "\n",
        "\n",
        "## [TODO] Image Clustering (Instructions) (10 points)\n",
        "1. Load each of the three images which should be given to you (image1.jpg, image2.jpg, image3.jpg)\n",
        "2. For each image, apply **KMeans clustering** twice:  \n",
        "   - **KMeans (Random Init)**  \n",
        "   - **KMeans++ (Smart Init)**  \n",
        "3. Replace each pixel with the color of its cluster centroid.  \n",
        "   - This reduces the number of unique colors in the image.  \n",
        "   - The result is a “posterized” image with simplified colors.  \n",
        "4. Display the results in a **3×3 grid**:  \n",
        "   - **Column 1** → Original images.  \n",
        "   - **Column 2** → KMeans results.  \n",
        "   - **Column 3** → KMeans++ results.  \n",
        "\n",
        "You need to get the output as follows:\n",
        "- A single figure with 9 panels (3 rows × 3 columns).  \n",
        "- Each row corresponds to one image.  \n",
        "- The leftmost image in each row is the original, followed by its KMeans and KMeans++ clustered versions.  \n",
        "---\n"
      ]
    },
    {
      "cell_type": "code",
      "execution_count": null,
      "metadata": {
        "id": "uLMKHAbXwZE8"
      },
      "outputs": [],
      "source": [
        "\n",
        "\n",
        "def cluster_image(image_path, k=5):\n",
        "    image = imread(image_path)\n",
        "    image = rescale(image, 0.5, channel_axis=-1)\n",
        "    h, w, c = image.shape\n",
        "    pixels = image.reshape(-1, c)\n",
        "\n",
        "\n",
        "    # ----------------------------------------------\n",
        "    # Implement Kmeans\n",
        "    # ----------------------------------------------\n",
        "\n",
        "    kmeans = KMeans(\n",
        "        n_clusters = k,\n",
        "        init = \"random\",\n",
        "        n_init = 10,\n",
        "        max_iter = 50,\n",
        "        random_state = 42\n",
        "    )\n",
        "\n",
        "    labels_km = kmeans.fit_predict(pixels)\n",
        "    centroids_km = kmeans.cluster_centers_\n",
        "\n",
        "    kmeans_image = kmeans.cluster_centers_[kmeans.labels_]\n",
        "    kmeans_image = kmeans_image.reshape(image.shape)\n",
        "\n",
        "\n",
        "    # ----------------------------------------------\n",
        "    # Implement Kmeans ++\n",
        "    # ----------------------------------------------\n",
        "\n",
        "    kmeans_pp = KMeans(\n",
        "        n_clusters = k,\n",
        "        init = \"k-means++\",\n",
        "        n_init = 10,\n",
        "        max_iter = 50,\n",
        "        random_state = 42,\n",
        "    )\n",
        "\n",
        "    labels_pp = kmeans_pp.fit_predict(pixels)\n",
        "    centroids_pp = kmeans_pp.cluster_centers_\n",
        "\n",
        "    kmeans_pp_image = kmeans_pp.cluster_centers_[kmeans_pp.labels_]\n",
        "\n",
        "\n",
        "    # ----------------------------------------------\n",
        "    # Implementation ends here\n",
        "    # ----------------------------------------------\n",
        "\n",
        "    return image, kmeans_image, kmeans_pp_image\n",
        "\n",
        "\n",
        "images = [\"image1.jpg\", \"image2.jpg\", \"image3.jpg\"]\n",
        "results = [cluster_image(img, k=6) for img in images]\n",
        "\n",
        "\n",
        "fig, axes = plt.subplots(3, 3, figsize=(15, 15))\n",
        "\n",
        "for i, (orig, km_rand, km_pp) in enumerate(results):\n",
        "    axes[i, 0].imshow(orig)\n",
        "    axes[i, 0].set_title(f\"Original {i+1}\")\n",
        "    axes[i, 0].axis(\"off\")\n",
        "\n",
        "    axes[i, 1].imshow(km_rand)\n",
        "    axes[i, 1].set_title(f\"KMeans {i+1}\")\n",
        "    axes[i, 1].axis(\"off\")\n",
        "\n",
        "    axes[i, 2].imshow(km_pp)\n",
        "    axes[i, 2].set_title(f\"KMeans++ {i+1}\")\n",
        "    axes[i, 2].axis(\"off\")\n",
        "\n",
        "plt.tight_layout()\n",
        "plt.show()\n",
        "\n"
      ]
    },
    {
      "cell_type": "markdown",
      "metadata": {
        "id": "9_-o7-CWwZE8"
      },
      "source": [
        "# [TODO] Answer the following questions (8 points)\n",
        "\n",
        "---\n",
        "\n",
        "**1. Question:** What does the Silhouette Score of KMeans++ for MNIST dataset represent?  \n",
        "\n",
        "**Answer:**  The silhouette score of KMeans ++ represents how well-defined the different clusters of datapoints are.\n",
        "\n",
        "\n",
        "---\n",
        "\n",
        "**2. Question:** When you used the KMeans library you set `n_init = 10`. What does `n_init` do?  \n",
        "\n",
        "**Answer:**  n_init specifies how many times the KMeans algorithm should run independently with each centroid.\n",
        "\n",
        "\n",
        "---\n",
        "\n",
        "**3. Question:** When you used the KMeans library you set `max_iter = 50`. What does `max_iter` do?  \n",
        "\n",
        "**Answer:**  max_iter puts a limit on the amount of iterations the KMeans algorithm will run through.\n",
        "\n",
        "\n",
        "---\n",
        "\n",
        "**4. Question:** What distance metric did you use for computing the Silhouette score of KMedoids?  \n",
        "\n",
        "**Answer:**  I used the Manhattan distance metric.\n",
        "\n",
        "\n",
        "---\n"
      ]
    },
    {
      "cell_type": "code",
      "source": [],
      "metadata": {
        "id": "1LO8Rfre9Qa0"
      },
      "execution_count": null,
      "outputs": []
    }
  ],
  "metadata": {
    "kernelspec": {
      "display_name": "mmexp",
      "language": "python",
      "name": "python3"
    },
    "language_info": {
      "codemirror_mode": {
        "name": "ipython",
        "version": 3
      },
      "file_extension": ".py",
      "mimetype": "text/x-python",
      "name": "python",
      "nbconvert_exporter": "python",
      "pygments_lexer": "ipython3",
      "version": "3.11.11"
    },
    "colab": {
      "provenance": [],
      "include_colab_link": true
    }
  },
  "nbformat": 4,
  "nbformat_minor": 0
}